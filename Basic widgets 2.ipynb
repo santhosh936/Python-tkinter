{
 "cells": [
  {
   "cell_type": "markdown",
   "id": "2050e42f",
   "metadata": {},
   "source": [
    "# Canvas widget"
   ]
  },
  {
   "cell_type": "code",
   "execution_count": null,
   "id": "0bf1c605",
   "metadata": {},
   "outputs": [],
   "source": [
    "from tkinter import *\n",
    "root = Tk()\n",
    "\n",
    "C = Canvas(root, bg=\"yellow\",height=250, width=300)\n",
    "\n",
    "line = C.create_line(108, 120,320, 40,fill=\"green\")\n",
    "\n",
    "arc = C.create_arc(180, 150, 80,210, start=0,extent=220,fill=\"red\")\n",
    "\n",
    "oval = C.create_oval(80, 30, 140,150,fill=\"blue\")\n",
    "\n",
    "C.pack()\n",
    "mainloop()"
   ]
  },
  {
   "cell_type": "markdown",
   "id": "5607bbd8",
   "metadata": {},
   "source": [
    "# Combobox widget"
   ]
  },
  {
   "cell_type": "code",
   "execution_count": 3,
   "id": "8485ef93",
   "metadata": {},
   "outputs": [],
   "source": [
    "import tkinter as tk \n",
    "from tkinter import ttk \n",
    "\n",
    "window = tk.Tk() \n",
    "window.title('Combobox') \n",
    "window.geometry('500x250') \n",
    "\n",
    "# label text for title \n",
    "ttk.Label(window, text = \"Combobox Widget\", background = 'green', foreground =\"white\", font = (\"Times New Roman\", 15)).grid(row = 0, column = 1) \n",
    "\n",
    "# label \n",
    "ttk.Label(window, text = \"Select the Month :\", font = (\"Times New Roman\", 10)).grid(column = 0, row = 5, padx = 10, pady = 25) \n",
    "\n",
    "# Combobox creation \n",
    "n = tk.StringVar() \n",
    "monthchoosen = ttk.Combobox(window, width = 27, textvariable = n) \n",
    "\n",
    "# Adding combobox drop down list \n",
    "monthchoosen['values'] = (' January', ' February', ' March', ' April', ' May', ' June', ' July', ' August', ' September', ' October', ' November', ' December') \n",
    "\n",
    "monthchoosen.grid(column = 1, row = 5) \n",
    "monthchoosen.current() \n",
    "window.mainloop() \n"
   ]
  },
  {
   "cell_type": "markdown",
   "id": "222c3ba8",
   "metadata": {},
   "source": [
    "# Message widget"
   ]
  },
  {
   "cell_type": "code",
   "execution_count": 4,
   "id": "9a156140",
   "metadata": {},
   "outputs": [],
   "source": [
    "from tkinter import *\n",
    "  \n",
    "root = Tk() \n",
    "root.geometry(\"300x200\") \n",
    "  \n",
    "w = Label(root, text ='Good to go chief', font = \"50\")  \n",
    "w.pack() \n",
    "    \n",
    "msg = Message( root, text = \"Hello all\")   \n",
    "    \n",
    "msg.pack()   \n",
    "  \n",
    "root.mainloop()  "
   ]
  },
  {
   "cell_type": "markdown",
   "id": "1112138f",
   "metadata": {},
   "source": [
    "# Message box widget"
   ]
  },
  {
   "cell_type": "code",
   "execution_count": null,
   "id": "c02cfa8f",
   "metadata": {},
   "outputs": [],
   "source": [
    "messagebox.Function_Name(title, message [, options]) "
   ]
  },
  {
   "cell_type": "code",
   "execution_count": 6,
   "id": "a1d91a8a",
   "metadata": {},
   "outputs": [],
   "source": [
    "from tkinter import *\n",
    "from tkinter import messagebox \n",
    "\n",
    "root = Tk() \n",
    "root.geometry(\"300x200\") \n",
    "\n",
    "w = Label(root, text ='Message Box', font = \"50\") \n",
    "w.pack() \n",
    "\n",
    "messagebox.showinfo(\"showinfo\", \"Information\") \n",
    "\n",
    "messagebox.showwarning(\"showwarning\", \"Warning\") \n",
    "\n",
    "messagebox.showerror(\"showerror\", \"Error\") \n",
    "\n",
    "messagebox.askquestion(\"askquestion\", \"Are you sure?\") \n",
    "\n",
    "messagebox.askokcancel(\"askokcancel\", \"Want to continue?\") \n",
    "\n",
    "messagebox.askyesno(\"askyesno\", \"Find the value?\") \n",
    "\n",
    "messagebox.askretrycancel(\"askretrycancel\", \"Try again?\") \n",
    "root.mainloop() \n"
   ]
  },
  {
   "cell_type": "markdown",
   "id": "d1164bca",
   "metadata": {},
   "source": [
    "# Listbox widget"
   ]
  },
  {
   "cell_type": "code",
   "execution_count": 9,
   "id": "bc94f891",
   "metadata": {},
   "outputs": [],
   "source": [
    "from tkinter import *\n",
    "top = Tk()\n",
    " \n",
    "listbox = Listbox(top, height = 10, \n",
    "                  width = 15, \n",
    "                  bg = \"grey\",\n",
    "                  activestyle = 'dotbox', \n",
    "                  font = \"Helvetica\",\n",
    "                  fg = \"yellow\")\n",
    " \n",
    "top.geometry(\"300x250\")  \n",
    " \n",
    "label = Label(top, text = \" FOOD ITEMS\") \n",
    "listbox.insert(1, \"Nachos\")\n",
    "listbox.insert(2, \"Sandwich\")\n",
    "listbox.insert(3, \"Burger\")\n",
    "listbox.insert(4, \"Pizza\")\n",
    "listbox.insert(5, \"Burrito\")\n",
    " \n",
    "label.pack()\n",
    "listbox.pack()\n",
    " \n",
    "top.mainloop()"
   ]
  },
  {
   "cell_type": "markdown",
   "id": "f247266f",
   "metadata": {},
   "source": [
    "# Scroll bar widget"
   ]
  },
  {
   "cell_type": "code",
   "execution_count": 25,
   "id": "608e2d8e",
   "metadata": {},
   "outputs": [],
   "source": [
    "from tkinter import *\n",
    "  \n",
    "root = Tk() \n",
    "root.geometry(\"150x200\") \n",
    "   \n",
    "w = Label(root, text ='GeeksForGeeks', \n",
    "          font = \"50\")  \n",
    "  \n",
    "w.pack() \n",
    "   \n",
    "scroll_bar = Scrollbar(root,orient=tk.HORIZONTAL) \n",
    "  \n",
    "scroll_bar.pack( side = BOTTOM, \n",
    "                fill = X ) \n",
    "   \n",
    "mylist = Listbox(root,  \n",
    "                 yscrollcommand = scroll_bar.set ) \n",
    "   \n",
    "for line in range(1, 26): \n",
    "    mylist.insert(END, \"Geeks \" + str(line)) \n",
    "  \n",
    "mylist.pack( side = LEFT, fill = BOTH ) \n",
    "  \n",
    "scroll_bar.config( command = mylist.yview ) #view of data moving\n",
    "   \n",
    "root.mainloop() "
   ]
  },
  {
   "cell_type": "markdown",
   "id": "1aa53dea",
   "metadata": {},
   "source": [
    "# Menu widget"
   ]
  },
  {
   "cell_type": "code",
   "execution_count": 35,
   "id": "d4ec10d5",
   "metadata": {},
   "outputs": [],
   "source": [
    "from tkinter import *\n",
    "from tkinter.ttk import *\n",
    "from time import strftime \n",
    "\n",
    "# creating tkinter window \n",
    "root = Tk() \n",
    "root.title('Menu Demonstration') \n",
    "\n",
    "# Creating Menubar \n",
    "menubar = Menu(root) \n",
    "\n",
    "# Adding File Menu and commands \n",
    "file = Menu(menubar, tearoff = 0) #using tearoff we can mover the particular menu\n",
    "menubar.add_cascade(label ='File', menu = file) \n",
    "file.add_command(label ='New File', command = None) \n",
    "file.add_command(label ='Open...', command = None) \n",
    "file.add_command(label ='Save', command = None) \n",
    "file.add_separator() \n",
    "file.add_command(label ='Exit', command = root.destroy) \n",
    "\n",
    "# Adding Edit Menu and commands \n",
    "edit = Menu(menubar, tearoff = 1) \n",
    "menubar.add_cascade(label ='Edit', menu = edit) \n",
    "edit.add_command(label ='Cut', command = None) \n",
    "edit.add_command(label ='Copy', command = None) \n",
    "edit.add_command(label ='Paste', command = None) \n",
    "edit.add_command(label ='Select All', command = None) \n",
    "edit.add_separator()#it separates the options\n",
    "edit.add_command(label ='Find...', command = None) \n",
    "edit.add_command(label ='Find again', command = None) \n",
    "\n",
    "# Adding Help Menu \n",
    "help_= Menu(menubar, tearoff = 0) \n",
    "menubar.add_cascade(label ='Help', menu = help_) \n",
    "help_.add_command(label ='Tk Help', command = None) \n",
    "help_.add_command(label ='Demo', command = None) \n",
    "help_.add_separator() \n",
    "help_.add_command(label ='About Tk', command = None) \n",
    "\n",
    "# display Menu \n",
    "root.config(menu = menubar)#This means that that menubar will appear at the top of the main window\n",
    "mainloop() \n"
   ]
  }
 ],
 "metadata": {
  "kernelspec": {
   "display_name": "Python 3 (ipykernel)",
   "language": "python",
   "name": "python3"
  },
  "language_info": {
   "codemirror_mode": {
    "name": "ipython",
    "version": 3
   },
   "file_extension": ".py",
   "mimetype": "text/x-python",
   "name": "python",
   "nbconvert_exporter": "python",
   "pygments_lexer": "ipython3",
   "version": "3.9.12"
  }
 },
 "nbformat": 4,
 "nbformat_minor": 5
}
