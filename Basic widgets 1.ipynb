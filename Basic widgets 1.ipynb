{
 "cells": [
  {
   "cell_type": "markdown",
   "metadata": {},
   "source": [
    "# How to create tkinter window"
   ]
  },
  {
   "cell_type": "code",
   "execution_count": 61,
   "metadata": {},
   "outputs": [],
   "source": [
    "import tkinter as tk\n",
    "root=tk.Tk()\n",
    "root.mainloop()"
   ]
  },
  {
   "cell_type": "markdown",
   "metadata": {},
   "source": [
    "# Button widget"
   ]
  },
  {
   "cell_type": "code",
   "execution_count": 24,
   "metadata": {},
   "outputs": [],
   "source": [
    "import tkinter as tk\n",
    "\n",
    "def button_clicked():\n",
    "    print(\"Button clicked!\")\n",
    "\n",
    "root = tk.Tk()\n",
    "button = tk.Button(root, \n",
    "                   text=\"Click Me\", \n",
    "                   command=button_clicked,\n",
    "                   activebackground=\"yellow\",#colour when click \n",
    "                   activeforeground=\"white\",\n",
    "                   anchor=\"s\",#text movement\n",
    "                   bd=3,#border of button\n",
    "                   bg=\"red\",#bg colour of button\n",
    "                   cursor=\"hand2\",\n",
    "                   disabledforeground=\"white\",\n",
    "                   fg=\"white\",#fg of text in button\n",
    "                   font=(\"Arial\", 12),\n",
    "                   height=2,#height of button\n",
    "                   justify=\"center\",\n",
    "                   padx=5,\n",
    "                   pady=5,\n",
    "                   width=35,#button width\n",
    "                   wraplength=100)\n",
    "\n",
    "button.pack(padx=20, pady=20)\n",
    "\n",
    "root.mainloop()"
   ]
  },
  {
   "cell_type": "code",
   "execution_count": 29,
   "metadata": {},
   "outputs": [],
   "source": [
    "from tkinter import *        \n",
    "from tkinter.ttk import *\n",
    "root = Tk()           \n",
    "root.geometry('100x100')     \n",
    "\n",
    "btn = Button(root, text = 'Click me !', \n",
    "                command = root.destroy) \n",
    "btn.pack(side = 'top')     \n",
    "root.mainloop() \n"
   ]
  },
  {
   "cell_type": "code",
   "execution_count": null,
   "metadata": {},
   "outputs": [],
   "source": [
    "from tkinter import *\n",
    "app = Tk()\n",
    "\n",
    "def which_button(button_text):\n",
    "    print(f\"Button clicked: {button_text}\")\n",
    "\n",
    "b1 = Button(app, text=\"Apple\", command=lambda: which_button(\"Apple\"))\n",
    "b1.grid(padx=10, pady=10)\n",
    "\n",
    "b2 = Button(app, text=\"Banana\", command=lambda: which_button(\"Banana\"))\n",
    "b2.grid(padx=10, pady=10)\n",
    "\n",
    "app.mainloop()\n"
   ]
  },
  {
   "cell_type": "markdown",
   "metadata": {},
   "source": [
    "# Label widget"
   ]
  },
  {
   "cell_type": "code",
   "execution_count": 34,
   "metadata": {},
   "outputs": [],
   "source": [
    "import tkinter as tk\n",
    "root = tk.Tk()\n",
    "root.geometry(\"400x250\")  # Set window size\n",
    "root.title(\"Welcome to My App\")  # Set window title\n",
    "\n",
    "text_var = tk.StringVar()\n",
    "text_var.set(\"Hello, World!\")\n",
    "\n",
    "label = tk.Label(root, \n",
    "                 textvariable=text_var, \n",
    "                 anchor=tk.CENTER,       \n",
    "                 bg=\"lightblue\",      \n",
    "                 height=3,              \n",
    "                 width=30,              \n",
    "                 bd=3,                  \n",
    "                 font=(\"Arial\", 16, \"bold\"), \n",
    "                 cursor=\"hand2\",   \n",
    "                 fg=\"red\",             \n",
    "                 padx=15,               \n",
    "                 pady=15,                \n",
    "                 justify=tk.CENTER,    \n",
    "                 relief=tk.RAISED,#creating button like structure     \n",
    "                 underline=3,           \n",
    "                 wraplength=250         \n",
    "                )\n",
    "\n",
    "label.pack(pady=20)\n",
    "root.mainloop()\n"
   ]
  },
  {
   "cell_type": "markdown",
   "metadata": {},
   "source": [
    "# Entry widget"
   ]
  },
  {
   "cell_type": "code",
   "execution_count": 35,
   "metadata": {},
   "outputs": [
    {
     "name": "stdout",
     "output_type": "stream",
     "text": [
      "The name is : valli\n",
      "The password is : valli123\n"
     ]
    }
   ],
   "source": [
    "import tkinter as tk\n",
    "\n",
    "root=tk.Tk()\n",
    "root.geometry(\"600x400\")\n",
    " \n",
    "name_var=tk.StringVar()\n",
    "passw_var=tk.StringVar()\n",
    "\n",
    "def submit():\n",
    "\n",
    "    name=name_var.get()\n",
    "    password=passw_var.get()\n",
    "    \n",
    "    print(\"The name is : \" + name)\n",
    "    print(\"The password is : \" + password)\n",
    "    \n",
    "    name_var.set(\"\")\n",
    "    passw_var.set(\"\")\n",
    "    \n",
    "name_label = tk.Label(root, text = 'Username', font=('calibre',10, 'bold'))\n",
    "name_entry = tk.Entry(root,textvariable = name_var, font=('calibre',10,'normal'))\n",
    " \n",
    "passw_label = tk.Label(root, text = 'Password', font = ('calibre',10,'bold'))\n",
    "passw_entry=tk.Entry(root, textvariable = passw_var, font = ('calibre',10,'normal'), show = '*')\n",
    "  \n",
    "sub_btn=tk.Button(root,text = 'Submit', command = submit)\n",
    " \n",
    "name_label.grid(row=0,column=0)\n",
    "name_entry.grid(row=0,column=1)\n",
    "passw_label.grid(row=1,column=0)\n",
    "passw_entry.grid(row=1,column=1)\n",
    "sub_btn.grid(row=2,column=1)\n",
    " \n",
    "root.mainloop()\n"
   ]
  },
  {
   "cell_type": "markdown",
   "metadata": {},
   "source": [
    "# Text widget"
   ]
  },
  {
   "cell_type": "code",
   "execution_count": 37,
   "metadata": {},
   "outputs": [],
   "source": [
    "import tkinter as tk \n",
    "\n",
    "window = tk.Tk() \n",
    "window.title(\"Text Widget Example\") \n",
    "window.geometry('400x200') \n",
    "\n",
    "tk.Label(window, text=\"Enter your comment :\", font=(\"Times New Roman\", 15)).grid(column=0, row=15, padx=10, pady=25) \n",
    "t = tk.Text(window, width=20, height=3) \n",
    "t.grid(column=1, row=15) \n",
    "\n",
    "window.mainloop() "
   ]
  },
  {
   "cell_type": "code",
   "execution_count": 38,
   "metadata": {},
   "outputs": [],
   "source": [
    "#setting default text using insert()\n",
    "import tkinter as tk \n",
    "\n",
    "root = tk.Tk() \n",
    "root.geometry(\"200x100\") \n",
    "\n",
    "textBox = tk.Entry(root) \n",
    "textBox.insert(0, \"This is the default text\") \n",
    "textBox.pack() \n",
    "root.mainloop() "
   ]
  },
  {
   "cell_type": "code",
   "execution_count": 43,
   "metadata": {},
   "outputs": [],
   "source": [
    "#setting default text using StringVar()\n",
    "import tkinter as tk\n",
    "main=tk.Tk()\n",
    "main.geometry(\"100x100\")\n",
    "text=tk.StringVar()\n",
    "text.set(\"this is default text\")\n",
    "textBox = tk.Entry(main,textvariable = text) \n",
    "textBox.pack()\n",
    "main.mainloop()"
   ]
  },
  {
   "cell_type": "markdown",
   "metadata": {},
   "source": [
    "# Radio button"
   ]
  },
  {
   "cell_type": "code",
   "execution_count": 58,
   "metadata": {},
   "outputs": [],
   "source": [
    "from tkinter import *\n",
    "\n",
    "master = Tk()\n",
    "master.geometry(\"175x175\")\n",
    "\n",
    "v = StringVar(master, \"3\")\n",
    "\n",
    "values = {\"RadioButton 1\" : \"1\",\"RadioButton 2\" : \"2\",\"RadioButton 3\" : \"3\",\"RadioButton 4\" : \"4\",\"RadioButton 5\" : \"5\"}\n",
    "\n",
    "\n",
    "for (text, value) in values.items():\n",
    "    Radiobutton(master, text = text, variable = v, value = value, indicator = 0,background = \"light blue\").pack(side=LEFT,fill = X, ipady = 50)\n",
    "\n",
    "mainloop()\n"
   ]
  },
  {
   "cell_type": "markdown",
   "metadata": {},
   "source": [
    "# Check button"
   ]
  },
  {
   "cell_type": "code",
   "execution_count": 70,
   "metadata": {},
   "outputs": [],
   "source": [
    "from tkinter import *\n",
    "\n",
    "root = Tk() \n",
    "root.geometry(\"300x200\") \n",
    "\n",
    "w = Label(root, text ='Student courses', font = \"50\") \n",
    "w.pack() \n",
    "\n",
    "Checkbutton1 = IntVar() \n",
    "Checkbutton2 = IntVar() \n",
    "Checkbutton3 = IntVar() \n",
    "\n",
    "Button1 = Checkbutton(root, text = \"C\", \n",
    "                    variable = Checkbutton1, \n",
    "                    onvalue = 1, \n",
    "                    offvalue = 0, \n",
    "                    height = 2, \n",
    "                    width = 10)\n",
    "\n",
    "Button2 = Checkbutton(root, text = \"C++\", \n",
    "                    variable = Checkbutton2, \n",
    "                    onvalue = 1, \n",
    "                    offvalue = 0, \n",
    "                    height = 2, \n",
    "                    width = 10)\n",
    "Button3 = Checkbutton(root, text = \"Python\", \n",
    "                    variable = Checkbutton3, \n",
    "                    onvalue = 1, \n",
    "                    offvalue = 0, \n",
    "                    height = 2, \n",
    "                    width = 10)\n",
    "    \n",
    "Button1.pack() \n",
    "Button2.pack() \n",
    "Button3.pack() \n",
    "\n",
    "mainloop() \n"
   ]
  },
  {
   "cell_type": "code",
   "execution_count": 75,
   "metadata": {},
   "outputs": [],
   "source": [
    "#comparing simple and ttk checkbutton\n",
    "from tkinter import *\n",
    "from tkinter import ttk\n",
    "\n",
    "root = Tk()\n",
    "\n",
    "#Simple Checkbutton\n",
    "Label(root, text ='Simple Checkbutton').place(x = 10, y = 10)\n",
    "chkbtn1 = Checkbutton(root, text ='Checkbutton1',takefocus = 0).place(x = 10, y = 40)\n",
    "chkbtn2 = Checkbutton(root, text ='Checkbutton2',takefocus = 0).place(x = 10, y = 60)\n",
    "\n",
    "\n",
    "#ttk.Checkbutton\n",
    "Label(root, text ='ttk.Checkbutton').place(x = 140, y = 10)\n",
    "chkbtn1 = ttk.Checkbutton(root, text ='Checkbutton1',takefocus = 0).place(x = 140, y = 40)# takefocus highlight when i click the button\n",
    "chkbtn2 = ttk.Checkbutton(root, text ='Checkbutton2', takefocus = 0).place(x = 140, y = 60)\n",
    "\n",
    "root.mainloop()\n"
   ]
  }
 ],
 "metadata": {
  "kernelspec": {
   "display_name": "Python 3",
   "language": "python",
   "name": "python3"
  },
  "language_info": {
   "codemirror_mode": {
    "name": "ipython",
    "version": 3
   },
   "file_extension": ".py",
   "mimetype": "text/x-python",
   "name": "python",
   "nbconvert_exporter": "python",
   "pygments_lexer": "ipython3",
   "version": "3.8.5"
  }
 },
 "nbformat": 4,
 "nbformat_minor": 4
}
