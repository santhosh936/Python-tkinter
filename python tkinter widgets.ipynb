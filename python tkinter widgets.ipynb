{
 "cells": [
  {
   "cell_type": "markdown",
   "metadata": {},
   "source": [
    "# Basic widgets"
   ]
  },
  {
   "cell_type": "markdown",
   "metadata": {},
   "source": [
    "Entry: Allow user input for single-line text.\n",
    "Frame: Organize widgets within a container.\n",
    "Checkbutton: Create checkboxes for boolean options.\n",
    "Radiobutton: Create radio buttons for mutually exclusive options.\n",
    "Listbox: Display a list of items for selection.\n",
    "Scrollbar: Add scrollbars to widgets like Listbox.\n",
    "Menu: Create simple menus for application navigation.\n",
    "Canvas: Draw shapes, lines, text, and images."
   ]
  },
  {
   "cell_type": "markdown",
   "metadata": {},
   "source": [
    "# Intermediate Widgets in Tkinter"
   ]
  },
  {
   "cell_type": "markdown",
   "metadata": {},
   "source": [
    "Combobox: Provide a dropdown list with editable text entry.\n",
    "Scale: Create a scale widget for selecting values within a range.\n",
    "Toplevel: Create additional windows/dialogs.\n",
    "Message: Display simple messages or notifications.\n",
    "Menubutton: Create a button that opens a menu.\n",
    "Progressbar: Show progress of a task.\n",
    "Spinbox: Provide a numerical input with up/down arrows."
   ]
  },
  {
   "cell_type": "markdown",
   "metadata": {},
   "source": [
    "# Advanced Widgets in Tkinter"
   ]
  },
  {
   "cell_type": "markdown",
   "metadata": {},
   "source": [
    "ScrolledText Widget: Create a text widget with built-in scrollbars.\n",
    "Treeview: Display hierarchical data in a tree-like structure.\n",
    "MessageBox Widget: Display dialog boxes for messages, warnings, etc.\n",
    "Treeview scrollbar Widget: Add scrollbars to Treeview widgets.\n",
    "Text: Create a multiline text input with advanced editing capabilities."
   ]
  },
  {
   "cell_type": "markdown",
   "metadata": {},
   "source": [
    "# Geometry Management in Tkinter"
   ]
  },
  {
   "cell_type": "markdown",
   "metadata": {},
   "source": [
    "Place() method in Tkinter\n",
    "Grid() method in Tkinter\n",
    "Pack() method in Tkinter"
   ]
  }
 ],
 "metadata": {
  "kernelspec": {
   "display_name": "Python 3",
   "language": "python",
   "name": "python3"
  },
  "language_info": {
   "codemirror_mode": {
    "name": "ipython",
    "version": 3
   },
   "file_extension": ".py",
   "mimetype": "text/x-python",
   "name": "python",
   "nbconvert_exporter": "python",
   "pygments_lexer": "ipython3",
   "version": "3.8.5"
  }
 },
 "nbformat": 4,
 "nbformat_minor": 4
}
